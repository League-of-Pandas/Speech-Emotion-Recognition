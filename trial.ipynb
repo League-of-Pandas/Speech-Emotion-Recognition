{
 "cells": [
  {
   "cell_type": "code",
   "execution_count": 1,
   "metadata": {},
   "outputs": [],
   "source": [
    "import librosa as lb\n",
    "import soundfile as sf\n",
    "import numpy as np\n",
    "import matplotlib.pyplot as plt\n",
    "from librosa import display\n",
    "import os\n",
    "import tkinter as tk\n",
    "\n",
    "from glob import glob\n",
    "from sklearn.model_selection import train_test_split\n",
    "from sklearn.neural_network import MLPClassifier\n",
    "from sklearn.metrics import accuracy_score\n",
    "from tkinter import filedialog"
   ]
  },
  {
   "cell_type": "code",
   "execution_count": 2,
   "metadata": {},
   "outputs": [],
   "source": [
    "def extract_features(file_title, mfcc, chroma, mel):\n",
    "  '''\n",
    "  Arguments:\n",
    "  file_title: as a path\n",
    "  mfcc, chroma, mel: as boolians\n",
    "\n",
    "  retruns:\n",
    "  sound features(mfcc, chroma, mel) as a matrix\n",
    "  '''\n",
    "  try:\n",
    "    with sf.SoundFile(file_title) as audio_recording:\n",
    "      audio = audio_recording.read(dtype=\"float32\")\n",
    "      sample_rate = audio_recording.samplerate\n",
    "      if chroma:\n",
    "          stft=np.abs(lb.stft(audio))\n",
    "          result=np.array([])\n",
    "      if mfcc:\n",
    "          mfccs=np.mean(lb.feature.mfcc(y=audio, sr=sample_rate, n_mfcc=40).T, axis=0)\n",
    "          result=np.hstack((result, mfccs))\n",
    "      if chroma:\n",
    "          chroma=np.mean(lb.feature.chroma_stft(S=stft, sr=sample_rate).T,axis=0)\n",
    "          result=np.hstack((result, chroma))\n",
    "      if mel:\n",
    "          mel=np.mean(lb.feature.melspectrogram(audio, sr=sample_rate).T,axis=0)\n",
    "          result=np.hstack((result, mel))\n",
    "      return result\n",
    "  except :\n",
    "    raise FileNotFoundError"
   ]
  },
  {
   "cell_type": "code",
   "execution_count": 3,
   "metadata": {},
   "outputs": [],
   "source": [
    "emotion_labels = {\n",
    "  '01':'neutral',\n",
    "  '02':'calm',\n",
    "  '03':'happy',\n",
    "  '04':'sad',\n",
    "  '05':'angry',\n",
    "  '06':'fearful',\n",
    "  '07':'disgust',\n",
    "  '08':'surprised'\n",
    "}\n",
    "focused_emotion_labels = ['happy', 'sad', 'angry', 'neutral']\n",
    "\n",
    "def loading_audio_data():\n",
    "    \"\"\"\n",
    "    Arguments: None\n",
    "    it loads the sound features for each file and the related emotion for each feature\n",
    "    return: Arrays\n",
    "    \"\"\"\n",
    "    x = []\n",
    "    y = []\n",
    "    for file in glob('sounds/Actor_*/*.wav'):\n",
    "        file_path = os.path.basename(file)\n",
    "        emotion = emotion_labels[file_path.split(\"-\")[2]]\n",
    "        if emotion not in focused_emotion_labels:\n",
    "            continue\n",
    "        feature = extract_features(file, mfcc=True, chroma=True, mel=True)\n",
    "        x.append(feature)\n",
    "        y.append(emotion)\n",
    "    final_dataset = train_test_split(np.array(x), y, test_size=0.1, random_state=9)\n",
    "    return final_dataset"
   ]
  },
  {
   "cell_type": "code",
   "execution_count": 4,
   "metadata": {},
   "outputs": [],
   "source": [
    "model = MLPClassifier(hidden_layer_sizes=(200,), learning_rate='adaptive', max_iter=400)\n",
    "X_train, X_test, y_train, y_test = loading_audio_data()\n",
    "model.fit(X_train, y_train)\n",
    "def calculate_trained_model_accuracy():\n",
    "    '''\n",
    "    Arguments:\n",
    "    None\n",
    "\n",
    "    this function trains the model and calculates the accuracy of it\n",
    "    Arguments: None\n",
    "\n",
    "    retruns: value (accuracy)\n",
    "    '''\n",
    "    \n",
    "    y_pred = model.predict(X_test)\n",
    "    accuracy = accuracy_score(y_true=y_test, y_pred=y_pred)\n",
    "    return accuracy"
   ]
  },
  {
   "cell_type": "code",
   "execution_count": null,
   "metadata": {},
   "outputs": [],
   "source": [
    "def extract_sound_features_from_user_input(file_path):\n",
    "        try:\n",
    "            print(\"Choose a file please\")\n",
    "            print(file_path)\n",
    "            feature = extract_features(file_path, mfcc=True, chroma=True, mel=True)\n",
    "            return feature\n",
    "        except Exception as e:\n",
    "            print(\"The file doesn't work, enter another file please\")  \n",
    "\n",
    "def take_input():\n",
    "    answer = input('Do you wanna choose a file?(yes/no) \\n >')\n",
    "    if answer.lower() == \"yes\":\n",
    "        file_path = filedialog.askopenfilename()\n",
    "        return extract_sound_features_from_user_input(file_path)\n",
    "take_input()    \n",
    "    "
   ]
  }
 ],
 "metadata": {
  "interpreter": {
   "hash": "0000eed5e19efcfefdaaf04d5830e11cd2bb5459675465e0c9955154909783ee"
  },
  "kernelspec": {
   "display_name": "Python 3",
   "language": "python",
   "name": "python3"
  },
  "language_info": {
   "codemirror_mode": {
    "name": "ipython",
    "version": 3
   },
   "file_extension": ".py",
   "mimetype": "text/x-python",
   "name": "python",
   "nbconvert_exporter": "python",
   "pygments_lexer": "ipython3",
   "version": "3.8.8"
  }
 },
 "nbformat": 4,
 "nbformat_minor": 4
}
