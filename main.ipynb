{
 "cells": [
  {
   "cell_type": "code",
   "execution_count": null,
   "metadata": {},
   "outputs": [],
   "source": [
    "from speech_emotion_recognition.speech_emotion_recognition import calculate_trained_model_accuracy\n",
    "calculate_trained_model_accuracy()"
   ]
  }
 ],
 "metadata": {
  "interpreter": {
   "hash": "02cb96fa0c824ef15d4c07bea89572fc9786daec319be2c2e5042ed6c0bf4efd"
  },
  "kernelspec": {
   "display_name": "Python 3.9.5 64-bit ('.venv': poetry)",
   "language": "python",
   "name": "python3"
  },
  "language_info": {
   "codemirror_mode": {
    "name": "ipython",
    "version": 3
   },
   "file_extension": ".py",
   "mimetype": "text/x-python",
   "name": "python",
   "nbconvert_exporter": "python",
   "pygments_lexer": "ipython3",
   "version": "3.9.5"
  },
  "orig_nbformat": 4
 },
 "nbformat": 4,
 "nbformat_minor": 2
}
