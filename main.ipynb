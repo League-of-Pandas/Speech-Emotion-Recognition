{
 "cells": [
  {
   "cell_type": "code",
   "execution_count": 1,
   "metadata": {},
   "outputs": [
    {
     "name": "stderr",
     "output_type": "stream",
     "text": [
      "playsound is relying on another python subprocess. Please use `pip install pygobject` if you want playsound to run more efficiently.\n"
     ]
    }
   ],
   "source": [
    "import librosa as lb\n",
    "from librosa import display\n",
    "import matplotlib.pyplot as plt\n",
    "\n",
    "def visualizing_sound(file):\n",
    "    '''\n",
    "    Argument:\n",
    "    a path for a (.wav) file\n",
    "\n",
    "    return:\n",
    "    1. spectogram of the choosen file\n",
    "    2. waveform of the choosen file\n",
    "    '''\n",
    "    x, fs = lb.load(file)\n",
    "    lb.display.waveplot(x, sr=fs)\n",
    "    X = lb.stft(x)\n",
    "    Xdb = lb.amplitude_to_db(abs(X))\n",
    "    plt.title('Waveform')\n",
    "    plt.figure(figsize=(14, 5))\n",
    "    plt.title('Spectogram')\n",
    "    lb.display.specshow(Xdb, sr=fs, x_axis='time', y_axis='hz')\n",
    "    plt.colorbar()\n",
    "\n",
    "    visualizing_sound(\"happy/female2_happy_1a_1.wav\")"
   ]
  }
 ],
 "metadata": {
  "interpreter": {
   "hash": "00606468585d80a3459ff309c2bb3da3408013ceaa66ad7d0127fb3907d2cc9a"
  },
  "kernelspec": {
   "display_name": "Python 3.9.5 64-bit ('.venv': poetry)",
   "language": "python",
   "name": "python3"
  },
  "language_info": {
   "codemirror_mode": {
    "name": "ipython",
    "version": 3
   },
   "file_extension": ".py",
   "mimetype": "text/x-python",
   "name": "python",
   "nbconvert_exporter": "python",
   "pygments_lexer": "ipython3",
   "version": "3.9.5"
  },
  "orig_nbformat": 4
 },
 "nbformat": 4,
 "nbformat_minor": 2
}
